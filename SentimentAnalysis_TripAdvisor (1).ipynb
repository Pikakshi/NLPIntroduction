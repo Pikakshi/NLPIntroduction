{
 "cells": [
  {
   "cell_type": "code",
   "execution_count": 23,
   "metadata": {},
   "outputs": [],
   "source": [
    "from pandas import DataFrame, read_csv\n",
    "import matplotlib.pyplot as plt\n",
    "import pandas as pd "
   ]
  },
  {
   "cell_type": "code",
   "execution_count": 24,
   "metadata": {},
   "outputs": [
    {
     "name": "stdout",
     "output_type": "stream",
     "text": [
      "      Star Ratings review_date  \\\n",
      "0                5   12-Jun-18   \n",
      "1                5   29-Dec-18   \n",
      "2                5   23-Sep-18   \n",
      "3                5   25-Jan-16   \n",
      "4                5   28-Mar-17   \n",
      "5                4   28-May-14   \n",
      "6                5   26-Oct-15   \n",
      "7                1   23-Jan-19   \n",
      "8                5   24-Aug-13   \n",
      "9                4   12-Aug-16   \n",
      "10               5   20-Apr-16   \n",
      "11               4   20-Feb-16   \n",
      "12               5   11-Dec-15   \n",
      "13               2   07-Mar-18   \n",
      "14               5   24-Mar-13   \n",
      "15               4   14-Oct-18   \n",
      "16               5   29-Apr-16   \n",
      "17               3   08-Jul-12   \n",
      "18               4   23-Aug-15   \n",
      "19               4   18-Aug-13   \n",
      "20               5   27-Apr-15   \n",
      "21               4   26-Aug-14   \n",
      "22               5   31-Aug-15   \n",
      "23               5   19-Jun-18   \n",
      "24               4   11-Sep-12   \n",
      "25               4   14-Oct-15   \n",
      "26               5   02-Aug-17   \n",
      "27               5   19-Apr-13   \n",
      "28               5   31-May-14   \n",
      "29               5   05-Jun-18   \n",
      "...            ...         ...   \n",
      "2263             4   28-Feb-16   \n",
      "2264             5   22-Jul-15   \n",
      "2265             5   03-Nov-12   \n",
      "2266             4   09-Feb-18   \n",
      "2267             5   16-Apr-14   \n",
      "2268             5   03-Dec-14   \n",
      "2269             5   09-Nov-13   \n",
      "2270             5   07-Jul-15   \n",
      "2271             5   05-Aug-14   \n",
      "2272             4   31-Jul-14   \n",
      "2273             5   12-Oct-16   \n",
      "2274             4   21-Jun-12   \n",
      "2275             5   11-Apr-18   \n",
      "2276             5   01-Aug-15   \n",
      "2277             4   14-Oct-16   \n",
      "2278             4   04-Jan-12   \n",
      "2279             5   05-Jul-16   \n",
      "2280             5   06-Mar-18   \n",
      "2281             5   07-Feb-17   \n",
      "2282             5   15-Mar-13   \n",
      "2283             5   30-Dec-15   \n",
      "2284             4   10-Aug-13   \n",
      "2285             5   21-Aug-13   \n",
      "2286             5   10-Jan-16   \n",
      "2287             5   27-Dec-13   \n",
      "2288             5   04-Sep-13   \n",
      "2289             5   08-May-16   \n",
      "2290             5   27-Oct-16   \n",
      "2291             4   26-Jun-16   \n",
      "2292             4   21-Nov-13   \n",
      "\n",
      "                                            review_body  \n",
      "0     A wonderful experience with excellent vespersi...  \n",
      "1     Really interesting, as I am interested in arch...  \n",
      "2     On holiday in Devon and promised myself a visi...  \n",
      "3     Called in at 5.30 service. Beautiful singing. ...  \n",
      "4     Well worth the entrance fee and nearly two hou...  \n",
      "5     As some have already mentioned the cost for th...  \n",
      "6     I visited this historic Cathedral for a Weddin...  \n",
      "7     Travelled to Exeter to see the cathedral and l...  \n",
      "8     A really nice cathedral with a truly human fee...  \n",
      "9     Really beautiful Cathedral, and so close to th...  \n",
      "10    We visited the Cathedral in the morning and wa...  \n",
      "11    We booked a trip to climb to the top of the be...  \n",
      "12    About 800 years of history are echoed in this ...  \n",
      "13    Entered the cathedral and asked receptionist o...  \n",
      "14    Wonderful architecture and really helpful guid...  \n",
      "15    Visited here but could not go in as a wedding ...  \n",
      "16    We visited Exeter Cathedral on a 2 day break i...  \n",
      "17    Sadly work on the outside spoilt the visit. I ...  \n",
      "18    I love going to Exeter Cathedral. I used to li...  \n",
      "19    My wife was born in Exeter so she took us to E...  \n",
      "20    Beautiful building unable to view inside due t...  \n",
      "21    A must see for all lovers of history.\\nThe car...  \n",
      "22    The entry charge is well worth it. Who would n...  \n",
      "23    Visited recently with the family and had the g...  \n",
      "24    Really good visit as they have an interactive ...  \n",
      "25    Worth a visit, fee to enter is expensive and m...  \n",
      "26    There is a fee to get in but it is wonderfully...  \n",
      "27    This is a beautiful cathedral with amazing his...  \n",
      "28    The cathedral is set in a lovely area and is w...  \n",
      "29    Do it! Youll get 1.5 hours of architectural h...  \n",
      "...                                                 ...  \n",
      "2263  we visited Exeter for the day ,began at the ca...  \n",
      "2264  This is a must if you are on holiday in the We...  \n",
      "2265  beautiful cathedral restored after bombings in...  \n",
      "2266  This was our first visit to the Cathedral and ...  \n",
      "2267  A beautiful Cathedral, steeped in great histor...  \n",
      "2268  Full of treasures and wonderment.... this is o...  \n",
      "2269  It closes at 5, but they let us in free and al...  \n",
      "2270  Very informative tour of this magnificent and ...  \n",
      "2271  Awesome! Every aspect of this ancient edifice ...  \n",
      "2272  We arrived just in time to enjoy the beauty of...  \n",
      "2273  Exeter Cathedral is just beautiful! I had such...  \n",
      "2274  Have since visited Salisbury and Winchester.  ...  \n",
      "2275  Visited the cathedral over the weekend, what a...  \n",
      "2276  Beautiful to look at and great acoustics insid...  \n",
      "2277  Lovely and quiet and lots to see and read abou...  \n",
      "2278  Not the most spectacular of Cathedral's but wo...  \n",
      "2279  lovely cathedral, went for a wedding and the g...  \n",
      "2280  What a hidden gem!\\nAbsolutely stunning archit...  \n",
      "2281  Absolutely loved this building. The high vault...  \n",
      "2282  I went to Exeter's Cathedral on a Saturday for...  \n",
      "2283  We were fortunate enough to attend one of seve...  \n",
      "2284  We visited the cathedral as we had time to spa...  \n",
      "2285  It is really in the centre of town, surrounded...  \n",
      "2286  One the great Cathedrals of England with a wea...  \n",
      "2287  Rich in history, worship and art.  Hailing fro...  \n",
      "2288  I visited Exeter on my way to the southcoast o...  \n",
      "2289  Magnificent building, the organ is stunning, a...  \n",
      "2290  An impressive building especially inside with ...  \n",
      "2291  We visited the cathedral with my new husband t...  \n",
      "2292  A fantastic building at the heart of a Exeter ...  \n",
      "\n",
      "[2293 rows x 3 columns]\n"
     ]
    }
   ],
   "source": [
    "file = r'C://Users//pm447//Downloads//ExCath DataMiner Final Dataset_210219.csv'\n",
    "df = pd.read_csv(file, encoding = 'unicode_escape')\n",
    "print(df)"
   ]
  },
  {
   "cell_type": "code",
   "execution_count": 26,
   "metadata": {},
   "outputs": [
    {
     "data": {
      "image/png": "[encoded data removed]",
      "text/plain": [
       "<Figure size 720x432 with 1 Axes>"
      ]
     },
     "metadata": {
      "needs_background": "light"
     },
     "output_type": "display_data"
    }
   ],
   "source": [
    "import seaborn as sns\n",
    "\n",
    "x=df['Star Ratings'].value_counts()\n",
    "x=x.sort_index()\n",
    "plt.figure(figsize=(10,6))\n",
    "ax= sns.barplot(x.index, x.values, alpha=0.8)\n",
    "plt.title(\"Star Rating Distribution\")\n",
    "plt.ylabel('Review Count')\n",
    "plt.xlabel('Star Ratings')\n",
    "rects = ax.patches\n",
    "labels = x.values\n",
    "for rect, label in zip(rects, labels):\n",
    "    height = rect.get_height()\n",
    "    ax.text(rect.get_x() + rect.get_width()/2, height + 5, label, ha='center', va='bottom')\n",
    "plt.show();"
   ]
  },
  {
   "cell_type": "code",
   "execution_count": 27,
   "metadata": {
    "scrolled": true
   },
   "outputs": [
    {
     "data": {
      "text/html": [
       "<div>\n",
       "<style scoped>\n",
       "    .dataframe tbody tr th:only-of-type {\n",
       "        vertical-align: middle;\n",
       "    }\n",
       "\n",
       "    .dataframe tbody tr th {\n",
       "        vertical-align: top;\n",
       "    }\n",
       "\n",
       "    .dataframe thead th {\n",
       "        text-align: right;\n",
       "    }\n",
       "</style>\n",
       "<table border=\"1\" class=\"dataframe\">\n",
       "  <thead>\n",
       "    <tr style=\"text-align: right;\">\n",
       "      <th></th>\n",
       "      <th>Star Ratings</th>\n",
       "      <th>review_body</th>\n",
       "      <th>Sentiment Polarity</th>\n",
       "    </tr>\n",
       "  </thead>\n",
       "  <tbody>\n",
       "    <tr>\n",
       "      <th>1084</th>\n",
       "      <td>4</td>\n",
       "      <td>It has lovely historical and original features...</td>\n",
       "      <td>0.238929</td>\n",
       "    </tr>\n",
       "    <tr>\n",
       "      <th>98</th>\n",
       "      <td>5</td>\n",
       "      <td>The Cathedral is a must visit in Exeter.  Ther...</td>\n",
       "      <td>0.350000</td>\n",
       "    </tr>\n",
       "    <tr>\n",
       "      <th>1316</th>\n",
       "      <td>4</td>\n",
       "      <td>Nice cathedral to visit but was a little spoil...</td>\n",
       "      <td>0.095833</td>\n",
       "    </tr>\n",
       "    <tr>\n",
       "      <th>2126</th>\n",
       "      <td>5</td>\n",
       "      <td>The cathedral is very interesting, with some v...</td>\n",
       "      <td>0.543542</td>\n",
       "    </tr>\n",
       "    <tr>\n",
       "      <th>1810</th>\n",
       "      <td>4</td>\n",
       "      <td>A fantastic and imposing cathedral, set in a w...</td>\n",
       "      <td>0.280444</td>\n",
       "    </tr>\n",
       "  </tbody>\n",
       "</table>\n",
       "</div>"
      ],
      "text/plain": [
       "      Star Ratings                                        review_body  \\\n",
       "1084             4  It has lovely historical and original features...   \n",
       "98               5  The Cathedral is a must visit in Exeter.  Ther...   \n",
       "1316             4  Nice cathedral to visit but was a little spoil...   \n",
       "2126             5  The cathedral is very interesting, with some v...   \n",
       "1810             4  A fantastic and imposing cathedral, set in a w...   \n",
       "\n",
       "      Sentiment Polarity  \n",
       "1084            0.238929  \n",
       "98              0.350000  \n",
       "1316            0.095833  \n",
       "2126            0.543542  \n",
       "1810            0.280444  "
      ]
     },
     "execution_count": 27,
     "metadata": {},
     "output_type": "execute_result"
    }
   ],
   "source": [
    "#conda install -c https://conda.anaconda.org/sloria textblob\n",
    "from textblob import TextBlob, Word, Blobber\n",
    "\n",
    "\n",
    "sample_reviews = df[['Star Ratings', 'review_body']].sample(2293)\n",
    "def detect_polarity(text):\n",
    "    return TextBlob(text).sentiment.polarity\n",
    "sample_reviews['Sentiment Polarity'] = sample_reviews.review_body.apply(detect_polarity)\n",
    "#sample_reviews.to_csv(r'C://Users//pm447//Downloads//TextBlob_Polarity.csv')\n",
    "sample_reviews.head()"
   ]
  },
  {
   "cell_type": "code",
   "execution_count": 11,
   "metadata": {},
   "outputs": [
    {
     "data": {
      "image/png": "[encoded data removed]",
      "text/plain": [
       "<Figure size 720x432 with 1 Axes>"
      ]
     },
     "metadata": {
      "needs_background": "light"
     },
     "output_type": "display_data"
    }
   ],
   "source": [
    "num_bins = 48\n",
    "plt.figure(figsize=(10,6))\n",
    "n, bins, patches = plt.hist(sample_reviews.polarity, num_bins, facecolor='blue', alpha=0.5)\n",
    "plt.xlabel('Polarity')\n",
    "plt.ylabel('Count')\n",
    "plt.title('Histogram of sentiment polarity')\n",
    "plt.show();"
   ]
  },
  {
   "cell_type": "code",
   "execution_count": 28,
   "metadata": {},
   "outputs": [
    {
     "data": {
      "text/plain": [
       "<Figure size 720x432 with 0 Axes>"
      ]
     },
     "metadata": {},
     "output_type": "display_data"
    },
    {
     "data": {
      "image/png": "[encoded data removed]",
      "text/plain": [
       "<Figure size 360x360 with 1 Axes>"
      ]
     },
     "metadata": {
      "needs_background": "light"
     },
     "output_type": "display_data"
    }
   ],
   "source": [
    "plt.figure(figsize=(10,6))\n",
    "sns.catplot(x='Star Ratings', y='Sentiment Polarity', data=sample_reviews)\n",
    "plt.show();"
   ]
  },
  {
   "cell_type": "code",
   "execution_count": 81,
   "metadata": {},
   "outputs": [
    {
     "data": {
      "text/html": [
       "<div>\n",
       "<style scoped>\n",
       "    .dataframe tbody tr th:only-of-type {\n",
       "        vertical-align: middle;\n",
       "    }\n",
       "\n",
       "    .dataframe tbody tr th {\n",
       "        vertical-align: top;\n",
       "    }\n",
       "\n",
       "    .dataframe thead th {\n",
       "        text-align: right;\n",
       "    }\n",
       "</style>\n",
       "<table border=\"1\" class=\"dataframe\">\n",
       "  <thead>\n",
       "    <tr style=\"text-align: right;\">\n",
       "      <th></th>\n",
       "      <th>stars</th>\n",
       "      <th>review_body</th>\n",
       "      <th>polarity</th>\n",
       "    </tr>\n",
       "  </thead>\n",
       "  <tbody>\n",
       "    <tr>\n",
       "      <th>433</th>\n",
       "      <td>5</td>\n",
       "      <td>The architecture of this cathedral was strikin...</td>\n",
       "      <td>2.0</td>\n",
       "    </tr>\n",
       "    <tr>\n",
       "      <th>1683</th>\n",
       "      <td>5</td>\n",
       "      <td>this is an amazing visit, the Entrance fee is ...</td>\n",
       "      <td>7.0</td>\n",
       "    </tr>\n",
       "    <tr>\n",
       "      <th>1790</th>\n",
       "      <td>5</td>\n",
       "      <td>Exeter Cathedral is one of the great Churches ...</td>\n",
       "      <td>8.0</td>\n",
       "    </tr>\n",
       "    <tr>\n",
       "      <th>13</th>\n",
       "      <td>2</td>\n",
       "      <td>Entered the cathedral and asked receptionist o...</td>\n",
       "      <td>0.0</td>\n",
       "    </tr>\n",
       "    <tr>\n",
       "      <th>1817</th>\n",
       "      <td>5</td>\n",
       "      <td>We have lived in exeter for nearly 40 years an...</td>\n",
       "      <td>7.0</td>\n",
       "    </tr>\n",
       "  </tbody>\n",
       "</table>\n",
       "</div>"
      ],
      "text/plain": [
       "      stars                                        review_body  polarity\n",
       "433       5  The architecture of this cathedral was strikin...       2.0\n",
       "1683      5  this is an amazing visit, the Entrance fee is ...       7.0\n",
       "1790      5  Exeter Cathedral is one of the great Churches ...       8.0\n",
       "13        2  Entered the cathedral and asked receptionist o...       0.0\n",
       "1817      5  We have lived in exeter for nearly 40 years an...       7.0"
      ]
     },
     "execution_count": 81,
     "metadata": {},
     "output_type": "execute_result"
    }
   ],
   "source": [
    "from afinn import Afinn\n",
    "af =  Afinn()\n",
    "\n",
    "sample_reviews1 = df[['stars', 'review_body']].sample(2293)\n",
    "def detect_polarity(text):\n",
    "    return af.score(text)\n",
    "sample_reviews1['polarity'] = sample_reviews.review_body.apply(af.score)\n",
    "sample_reviews1.to_csv(r'C://Users//pm447//Downloads//Afinn_Polarity.csv')\n",
    "sample_reviews1.head()"
   ]
  },
  {
   "cell_type": "code",
   "execution_count": 38,
   "metadata": {},
   "outputs": [
    {
     "ename": "SyntaxError",
     "evalue": "invalid syntax (<ipython-input-38-4a44b05076e0>, line 1)",
     "output_type": "error",
     "traceback": [
      "\u001b[1;36m  File \u001b[1;32m\"<ipython-input-38-4a44b05076e0>\"\u001b[1;36m, line \u001b[1;32m1\u001b[0m\n\u001b[1;33m    pip install -c conda-forge/label/gcc7 wordcloud\u001b[0m\n\u001b[1;37m              ^\u001b[0m\n\u001b[1;31mSyntaxError\u001b[0m\u001b[1;31m:\u001b[0m invalid syntax\n"
     ]
    }
   ],
   "source": [
    "pip install -c conda-forge/label/gcc7 wordcloud\n",
    "\n",
    "import numpy as np\n",
    "import pandas as pd\n",
    "from os import path\n",
    "from PIL import Image\n",
    "#import wordcloud\n",
    "#from wordcloud import WordCloud, STOPWORDS, ImageColorGenerator\n",
    "\n",
    "import matplotlib.pyplot as plt\n"
   ]
  },
  {
   "cell_type": "code",
   "execution_count": null,
   "metadata": {},
   "outputs": [],
   "source": []
  }
 ],
 "metadata": {
  "kernelspec": {
   "display_name": "Python 2",
   "language": "python",
   "name": "python2"
  },
  "language_info": {
   "codemirror_mode": {
    "name": "ipython",
    "version": 2
   },
   "file_extension": ".py",
   "mimetype": "text/x-python",
   "name": "python",
   "nbconvert_exporter": "python",
   "pygments_lexer": "ipython2",
   "version": "2.7.15"
  }
 },
 "nbformat": 4,
 "nbformat_minor": 2
}
