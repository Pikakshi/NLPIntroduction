{
 "cells": [
  {
   "cell_type": "markdown",
   "metadata": {},
   "source": [
    "# TF-IDF Model\n",
    "\n",
    "## Term Frequency\n",
    "\n",
    "- Measures how frequently a term occurs in a document.\n",
    "- A term might appear more times in long documents than shorter ones since every document’s length is different.\n",
    "- 𝑡𝑓(𝑡,𝑑) of term <i>t</i> in document <i>d</i> is defined as the number of times that <i>t</i> occurs in <i>d</i>.\n",
    "- Greater when a term is frequent in the document.\n",
    "\n",
    "Consider the following documents:"
   ]
  },
  {
   "cell_type": "markdown",
   "metadata": {},
   "source": [
    "- Doc1 = \"The sky is blue.\"<br>\n",
    "- Doc2 = \"The sun is bright today.\"<br>\n",
    "- Doc3 = \"The sun in the sky is bright.\"<br>\n",
    "- Doc4 = \"We can see the shining sun, the bright sun.\"\n",
    "\n",
    "The term frequency matrix to calculate the number of times a term appeared in each document is shown below. Note that the stop words are not considered in this matrix."
   ]
  },
  {
   "cell_type": "markdown",
   "metadata": {},
   "source": [
    "|Terms|Doc1|Doc2|Doc3|Doc4|\n",
    "| --- | --- | --- |--- | --- |\n",
    "|blue    |1| 0| 0| 0|\n",
    "|bright  |0 |1 |1 |1|\n",
    "|can     |0 |0 |0 |1|\n",
    "|see     |0 |0 |0 |1|\n",
    "|shining |0 |0 |0 |1|\n",
    "|sky    | 1 |0 |1 |0|\n",
    "|sun   |  0 |1| 1| 2|\n",
    "|today|   0 |1 |0 |0|"
   ]
  },
  {
   "cell_type": "markdown",
   "metadata": {},
   "source": [
    "tf('sun',doc2) = 1/3 = 0.33"
   ]
  },
  {
   "cell_type": "markdown",
   "metadata": {},
   "source": [
    "## Inverse Document Frequency\n",
    "\n",
    "- A word is not very informative if it occurs in all documents.\n",
    "- Estimate the rarity of a term in the whole document collection. \n",
    "- If a term occurs in all the documents of the collection, its IDF is zero. \n",
    "- Greater when the term is <b>rare</b> in the collection\n",
    "\n",
    "<center>$idf(t) = log(\\frac{D}{df_t})$</center>\n",
    "\n",
    "where:\n",
    "- D = Number of documents in the collection, i.e. the document space,\n",
    "- $df_t$ = Number of documents in which term <i>t</i> appear, i.e., document frequency\n",
    "\n",
    "\n",
    "$idf('sun') = log\\frac{4}{4} = 0.0$\n",
    "\n",
    "## Tf-idf\n",
    "\n",
    "The tf-idf weight of a term is the product of its tf weight and its idf weight, i.e.,\n",
    "\n",
    "<center>$w(t) = tf(t,d) * log(\\frac{D}{df_t})$</center>\n",
    "\n",
    "tf-idf('sun') = 0.33 * 0.0 = 0.0\n",
    "\n",
    "## Using TfidfVectorizer to compute tf-idf scores"
   ]
  },
  {
   "cell_type": "code",
   "execution_count": 6,
   "metadata": {},
   "outputs": [
    {
     "name": "stdout",
     "output_type": "stream",
     "text": [
      "['blue', 'bright', 'can', 'in', 'is', 'see', 'shining', 'sky', 'sun', 'the', 'today', 'we']\n",
      "(4, 12)\n",
      "[[0.65919112 0.         0.         0.         0.42075315 0.\n",
      "  0.         0.51971385 0.         0.34399327 0.         0.        ]\n",
      " [0.         0.40412895 0.         0.         0.40412895 0.\n",
      "  0.         0.         0.40412895 0.33040189 0.63314609 0.        ]\n",
      " [0.         0.3218464  0.         0.50423458 0.3218464  0.\n",
      "  0.         0.39754433 0.3218464  0.52626104 0.         0.        ]\n",
      " [0.         0.23910199 0.37459947 0.         0.         0.37459947\n",
      "  0.37459947 0.         0.47820398 0.39096309 0.         0.37459947]]\n"
     ]
    }
   ],
   "source": [
    "from sklearn.feature_extraction.text import TfidfVectorizer\n",
    "corpus = ['The sky is blue.','The sun is bright today.','The sun in the sky is bright.',\n",
    "          'We can see the shining sun, the bright sun.']\n",
    "vectorizer = TfidfVectorizer()\n",
    "X = vectorizer.fit_transform(corpus)\n",
    "print(vectorizer.get_feature_names())\n",
    "print(X.shape)\n",
    "print(X.toarray())"
   ]
  }
 ],
 "metadata": {
  "kernelspec": {
   "display_name": "Python 3",
   "language": "python",
   "name": "python3"
  },
  "language_info": {
   "codemirror_mode": {
    "name": "ipython",
    "version": 3
   },
   "file_extension": ".py",
   "mimetype": "text/x-python",
   "name": "python",
   "nbconvert_exporter": "python",
   "pygments_lexer": "ipython3",
   "version": "3.6.7"
  }
 },
 "nbformat": 4,
 "nbformat_minor": 2
}
