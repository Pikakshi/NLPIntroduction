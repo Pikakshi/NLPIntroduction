{
 "cells": [
  {
   "cell_type": "code",
   "execution_count": null,
   "metadata": {},
   "outputs": [],
   "source": [
    "import nltk\n",
    "#stopword removal\n",
    "nltk.download('stopwords')\n",
    "from nltk.corpus import stopwords\n",
    "#specifying the stopword language dataset\n",
    "stop_words = stopwords.words('english')\n",
    "print(stop_words) #printing all stopwords in the English stopwords dataset"
   ]
  },
  {
   "cell_type": "code",
   "execution_count": null,
   "metadata": {},
   "outputs": [],
   "source": [
    "#stopword removal from a string\n",
    "nltk.download('stopwords')\n",
    "from nltk.corpus import stopwords\n",
    "from nltk.tokenize import word_tokenize #word_tokenize accepts a string as an input, not a file\n",
    "example_line='something...is! wrong() with.,; this :: sentence.'\n",
    "stop_words = set(stopwords.words('english'))\n",
    "words_tokens = word_tokenize(example_line)\n",
    "filtered_sentence = [w for w in word_tokens if not w in stop_words]\n",
    "filtered_sentence = []\n",
    "for w in word_tokens:\n",
    "    if w not in stop_words:\n",
    "        filtered_sentence.append(w)\n",
    "print(filtered_sentence)"
   ]
  },
  {
   "cell_type": "code",
   "execution_count": null,
   "metadata": {},
   "outputs": [],
   "source": [
    "#stopword removal from a text file\n",
    "from nltk.corpus import stopwords\n",
    "from nltk.tokenize import word_tokenize\n",
    "stop_words = set(stopwords.words('english'))\n",
    "#read from a file as a stream\n",
    "filename = open('preprocessing_data.txt')\n",
    "line = filename.read()\n",
    "words = line.split()\n",
    "for r in words:\n",
    "    if r not in stop_words:\n",
    "        outputFile = open('nostopwords_data.txt','a') #writing processed output to a new file\n",
    "        outputFile.write(\" \"+r)\n",
    "        outputFile.close()"
   ]
  },
  {
   "cell_type": "code",
   "execution_count": null,
   "metadata": {},
   "outputs": [],
   "source": [
    "#converting to lowercase\n",
    "with open('preprocessing_data.txt','r') as fileinput:\n",
    "    for line in fileinput:\n",
    "        line = line.lower()\n",
    "        with open('lowercase_data.txt','a') as outputFile: #writing processed output to a new file\n",
    "            outputFile.writelines(line)"
   ]
  },
  {
   "cell_type": "code",
   "execution_count": null,
   "metadata": {},
   "outputs": [],
   "source": [
    "#removing punctuations, URL and special characters\n",
    "import string\n",
    "tr = str.maketrans(\"\",\"\",string.punctuation)\n",
    "s = \"{{Here is some stuff in curly braces..!!}}\"\n",
    "s.translate(tr)\n",
    "\n",
    "with open('preprocessing_data.txt','r') as fileinput:\n",
    "    for line in fileinput:\n",
    "        stripped = line.translate(tr)\n",
    "        print(stripped)"
   ]
  },
  {
   "cell_type": "code",
   "execution_count": null,
   "metadata": {},
   "outputs": [],
   "source": [
    "#sentence segmentation\n",
    "from nltk import tokenize\n",
    "with open('preprocessing_data.txt','r') as fileinput:\n",
    "    for line in fileinput:\n",
    "        tokenized = tokenize.sent_tokenize(line)\n",
    "        print(tokenized)\n",
    "        \n",
    "#text tokenization\n",
    "from nltk.tokenize import word_tokenize\n",
    "with open('preprocessing_data.txt','r') as fileinput:\n",
    "    for line in fileinput:\n",
    "        tokens = word_tokenize(line)\n",
    "        print(tokens)"
   ]
  },
  {
   "cell_type": "markdown",
   "metadata": {},
   "source": [
    "Stemming\n",
    " -  Reducing each word to its root or base.\n",
    " -  A rudimentary rule-based process of stripping the suffixes (\"ing\", \"ly\", \"es\", \"s\" etc) from a word.\n",
    " -  For example \"fishing\", \"fished\", \"fisher\" all reduce to the stem \"fish\". \n",
    " -  \"studies\" --> \"studi\", \"studying\" --> \"study\"\n",
    " -  Most common algorithm for stemming English is Porter's algorithm."
   ]
  },
  {
   "cell_type": "code",
   "execution_count": null,
   "metadata": {},
   "outputs": [],
   "source": [
    "from nltk.tokenize import word_tokenize\n",
    "filename = open('preprocessing_data.txt')\n",
    "line = filename.read()\n",
    "tokens = word_tokenize(line)\n",
    "#import the stemming algorithm: Porter's Stemmer\n",
    "from nltk.stem.porter import PorterStemmer\n",
    "porter = PorterStemmer()\n",
    "stemmed = [porter.stem(word) for word in tokens]\n",
    "print(stemmed[:100])"
   ]
  }
 ],
 "metadata": {
  "kernelspec": {
   "display_name": "Python 3",
   "language": "python",
   "name": "python3"
  },
  "language_info": {
   "codemirror_mode": {
    "name": "ipython",
    "version": 3
   },
   "file_extension": ".py",
   "mimetype": "text/x-python",
   "name": "python",
   "nbconvert_exporter": "python",
   "pygments_lexer": "ipython3",
   "version": "3.6.7"
  }
 },
 "nbformat": 4,
 "nbformat_minor": 2
}
